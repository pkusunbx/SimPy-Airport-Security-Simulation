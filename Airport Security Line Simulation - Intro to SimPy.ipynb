{
 "cells": [
  {
   "cell_type": "markdown",
   "metadata": {},
   "source": [
    "# Introduction to Simulation using SimPy"
   ]
  },
  {
   "cell_type": "code",
   "execution_count": 1,
   "metadata": {},
   "outputs": [],
   "source": [
    "import simpy\n",
    "import matplotlib.mlab as mlab\n",
    "import matplotlib.pyplot as plt\n",
    "import seaborn\n",
    "import random\n",
    "import numpy as np"
   ]
  },
  {
   "cell_type": "markdown",
   "metadata": {},
   "source": [
    "## Airport Security Process\n",
    "(1) Individuals arrive at the boarding pass and ID check booths; (2) Individuals are assigned to the shortest scanner/metal detector line\n",
    "\n",
    "*Notes on Simpy*\n",
    "- the resources request() method generates an event that lets you wait until the resource becomes available again\n",
    "- If you use the resource with the with statement as shown above, the resource is automatically being released. If you call request() without with, you are responsible to call release() once you are done using the resource.\n",
    "- When you release a resource, the next waiting process is resumed and now “owns” one of the resource’s slots. The basic Resource sorts waiting processes in a FIFO (first in—first out) way.\n",
    "- A resource needs a reference to an Environment and a capacity when it is created:\n",
    "\n",
    "\n",
    "First, I'm going to create the Airport security system. Once I'm confident with the simulation mode, I'll loop through 100 simulations, and show a distribution of the average wait time."
   ]
  },
  {
   "cell_type": "code",
   "execution_count": 2,
   "metadata": {},
   "outputs": [
    {
     "name": "stdout",
     "output_type": "stream",
     "text": [
      "Total Passengers: 7505\n",
      "Avg total wait time: 25.68827744534722\n"
     ]
    }
   ],
   "source": [
    "#Airport Security\n",
    "num_booths = 4\n",
    "num_scanners = 4\n",
    "\n",
    "arrival_rate = .2 \n",
    "check_rate = 0.75 #minutes per passenger\n",
    "\n",
    "min_time = 0.5 #min scan time - uniform dist\n",
    "max_time = 1.0 #max scan time - uniform dist\n",
    "\n",
    "run_time = 1440\n",
    "\n",
    "avg_check_time = []\n",
    "avg_scan_time = []\n",
    "avg_wait_time = []\n",
    "\n",
    "\n",
    "random.seed(24)\n",
    "\n",
    "class Airport_Security(object):\n",
    "    #airport security system\n",
    "    def __init__(self,env,num_booths,num_scanners):\n",
    "        self.env = env\n",
    "        self.booth = simpy.Resource(env,capacity=num_booths)\n",
    "        self.scanner = simpy.Resource(env,capacity=num_scanners)\n",
    "\n",
    "    #1st process\n",
    "    def boarding_pass_check(self,pass_arrival):\n",
    "        #The boarding pass checking process\n",
    "        booth_time = random.expovariate(1.0/check_rate)\n",
    "        yield self.env.timeout(booth_time)\n",
    "    #2nd process\n",
    "    def scan_check(self,pass_arrival):\n",
    "        #Scan/metal detector checking\n",
    "        scan_rate = random.uniform(min_time,max_time)\n",
    "        yield self.env.timeout(scan_rate)\n",
    "\n",
    "    #Passengers arriving\n",
    "def pass_arrival(env,pass_num,b):\n",
    "    Arrivaltime = env.now\n",
    "    with b.booth.request() as request:\n",
    "        yield request\n",
    "        yield env.process(b.boarding_pass_check(pass_num))\n",
    "    \n",
    "    first_stop = env.now - Arrivaltime\n",
    "    avg_check_time.append(first_stop)\n",
    "    \n",
    "    with b.scanner.request() as request:\n",
    "        yield request\n",
    "        yield env.process(b.scan_check(pass_num))\n",
    "    \n",
    "    finish = env.now - first_stop\n",
    "    avg_scan_time.append(finish - first_stop)\n",
    "    \n",
    "    passenger_time = env.now - Arrivaltime\n",
    "    avg_wait_time.append(passenger_time)\n",
    "\n",
    "def setup(env, num_booths, num_scanners):\n",
    "    check = Airport_Security(env, num_booths, num_scanners,)\n",
    "    # Create 4 initial people\n",
    "    for i in range(4):\n",
    "        env.process(pass_arrival(env,i,check))\n",
    "\n",
    "    # Create more cars while the simulation is running\n",
    "    while True:\n",
    "        yield env.timeout(np.random.poisson(arrival_rate))\n",
    "        i += 1\n",
    "        env.process(pass_arrival(env,i,check))\n",
    "\n",
    "# Simulation and setup process\n",
    "random.seed(24)\n",
    "env = simpy.Environment()\n",
    "env.process(setup(env, num_booths, num_scanners))\n",
    "\n",
    "#Execute\n",
    "env.run(until = run_time)\n",
    "print(\"Total Passengers:\",len(avg_wait_time))\n",
    "print(\"Avg total wait time:\",sum(avg_wait_time)/len(avg_wait_time))\n"
   ]
  },
  {
   "cell_type": "markdown",
   "metadata": {},
   "source": [
    "The code above only has one version of the simulation - to get a better idea of the true results, I'll do the simulation 100 times. I'll then speed up the passenger arrival time to model a busier airport, like Atlanta."
   ]
  },
  {
   "cell_type": "markdown",
   "metadata": {},
   "source": [
    "## Running the Simulation 100+ times\n",
    "Now that I have my simulation up and running, I'm going to loop through it 100 times, and plot a histogram of the average wait time to get a general distribution of how long passengers are generally waiting. I'll first do this for num_booths = 4 and num_scanners = 4; however, if the wait times are too long, I'll have to adjust those numbers."
   ]
  },
  {
   "cell_type": "code",
   "execution_count": 3,
   "metadata": {},
   "outputs": [
    {
     "data": {
      "image/png": "[encoded data removed]",
      "text/plain": [
       "<Figure size 432x288 with 1 Axes>"
      ]
     },
     "metadata": {},
     "output_type": "display_data"
    }
   ],
   "source": [
    "#Airport Security\n",
    "num_booths = 4\n",
    "num_scanners = 4\n",
    "\n",
    "arrival_rate = .2 #5 per minute\n",
    "check_rate = 0.75 \n",
    "\n",
    "min_time = 0.5\n",
    "max_time = 1.0 \n",
    "reps = 100\n",
    "\n",
    "Average_Time = []\n",
    "\n",
    "for sim in range(1,reps):\n",
    "    # Simulation and setup process\n",
    "    random.seed(24)\n",
    "    avg_check_time = []\n",
    "    avg_scan_time = []\n",
    "    avg_wait_time = []\n",
    "    env = simpy.Environment()\n",
    "    env.process(setup(env, num_booths, num_scanners))\n",
    "\n",
    "    #Execute\n",
    "    env.run(until = 1500)\n",
    "    Average_Time.append(sum(avg_wait_time)/len(avg_wait_time))\n",
    "\n",
    "num_bins = 7\n",
    "n,bins,patches = plt.hist(Average_Time,num_bins,facecolor = 'blue', alpha = .5, edgecolor = 'white')\n",
    "plt.show()"
   ]
  },
  {
   "cell_type": "code",
   "execution_count": 4,
   "metadata": {},
   "outputs": [
    {
     "name": "stdout",
     "output_type": "stream",
     "text": [
      "The overall average of the averages is: 11.13 minutes\n"
     ]
    }
   ],
   "source": [
    "print(\"The overall average of the averages is:\",round(sum(Average_Time)/len(Average_Time),2),\"minutes\")"
   ]
  },
  {
   "cell_type": "markdown",
   "metadata": {},
   "source": [
    "The histogram of the results is right skewed. This makes sense in our case. The wait times generally fall between 5-15 minutes, but still reach up to the 25 and 30 minute range occassionally. The overall average of the averages is just over 11 minutes. This probably seems a little unrealistic to those who live in big cities or travel a lot. For that reason, I'm going to do the same exact analysis, but increase the arrival rate to about 10 passenegers per minute. To compensate for this change a little bit, I'll add four more booths and three more scanners as well."
   ]
  },
  {
   "cell_type": "markdown",
   "metadata": {},
   "source": [
    "## Busy Airport Simulation"
   ]
  },
  {
   "cell_type": "code",
   "execution_count": 5,
   "metadata": {},
   "outputs": [
    {
     "data": {
      "image/png": "[encoded data removed]",
      "text/plain": [
       "<Figure size 432x288 with 1 Axes>"
      ]
     },
     "metadata": {},
     "output_type": "display_data"
    }
   ],
   "source": [
    "#Airport Security\n",
    "num_booths = 8\n",
    "num_scanners = 7\n",
    "\n",
    "arrival_rate = .10 #About 10 per minute\n",
    "check_rate = 0.75 \n",
    "\n",
    "min_time = 0.5\n",
    "max_time = 1.0 \n",
    "reps = 100\n",
    "\n",
    "Average_Time = []\n",
    "\n",
    "for sim in range(1,reps):\n",
    "    # Simulation and setup process\n",
    "    random.seed(24)\n",
    "    avg_check_time = []\n",
    "    avg_scan_time = []\n",
    "    avg_wait_time = []\n",
    "    env = simpy.Environment()\n",
    "    env.process(setup(env, num_booths, num_scanners))\n",
    "\n",
    "    #Execute\n",
    "    env.run(until = 1500)\n",
    "    Average_Time.append(sum(avg_wait_time)/len(avg_wait_time))\n",
    "\n",
    "num_bins = 7\n",
    "n,bins,patches = plt.hist(Average_Time,num_bins,facecolor = 'blue', alpha = .5, edgecolor = 'white')\n",
    "plt.xlabel('Average Wait Time (minutes)')\n",
    "plt.ylabel('Counts')\n",
    "plt.title('Histogram of Average Wait Time')\n",
    "plt.show()"
   ]
  },
  {
   "cell_type": "markdown",
   "metadata": {},
   "source": [
    "Just like that, the average wait increases *substantially*. The average wait times now reach up to 90+ minutes, with a mean/median of around 55 minutes. For some airports, this is probabaly very realistic. Luckily for me, I primarily fly out of Milwaukee, WI and Madison, WI, so I rarely see wait times of this scale."
   ]
  }
 ],
 "metadata": {
  "kernelspec": {
   "display_name": "Python 3",
   "language": "python",
   "name": "python3"
  },
  "language_info": {
   "codemirror_mode": {
    "name": "ipython",
    "version": 3
   },
   "file_extension": ".py",
   "mimetype": "text/x-python",
   "name": "python",
   "nbconvert_exporter": "python",
   "pygments_lexer": "ipython3",
   "version": "3.6.5"
  }
 },
 "nbformat": 4,
 "nbformat_minor": 2
}
